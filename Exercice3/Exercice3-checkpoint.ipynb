{
 "cells": [
  {
   "cell_type": "code",
   "execution_count": 1,
   "id": "a5c8733f-3de1-4c62-bb1b-bf4ec8837526",
   "metadata": {},
   "outputs": [],
   "source": [
    "import numpy as np"
   ]
  },
  {
   "cell_type": "code",
   "execution_count": 2,
   "id": "35d2100d-20ca-43fe-a4cd-3c014a14a512",
   "metadata": {},
   "outputs": [],
   "source": [
    "import scipy.stats as stats"
   ]
  },
  {
   "cell_type": "markdown",
   "id": "d642739b-f92a-4913-ba95-4d18194c586d",
   "metadata": {},
   "source": [
    "Etape1: Calcul du coefficient de corrélation entre X et Y"
   ]
  },
  {
   "cell_type": "code",
   "execution_count": 3,
   "id": "296b036c-d6fd-4e62-b2cc-2ed75fbfe789",
   "metadata": {},
   "outputs": [],
   "source": [
    "def correlation_coefficient(X, Y):\n",
    "    return np.corrcoef(X, Y)[0, 1]"
   ]
  },
  {
   "cell_type": "markdown",
   "id": "a66ed484-1b74-4a47-8117-0018e627bdd3",
   "metadata": {},
   "source": [
    "Etape2: Calcul de la statistique z de Fisher"
   ]
  },
  {
   "cell_type": "code",
   "execution_count": 4,
   "id": "70b66b9a-4df0-4554-bf2d-fa02a3404296",
   "metadata": {},
   "outputs": [],
   "source": [
    "def fisher_transformation(r):\n",
    "    return 0.5*np.log((1+r)/(1-r))"
   ]
  },
  {
   "cell_type": "markdown",
   "id": "00ddb7a7-64c9-46ce-ab9b-bb5b48994892",
   "metadata": {},
   "source": [
    "Etape3: Calcul de la statistique w pour tester l'hypothèse nulle"
   ]
  },
  {
   "cell_type": "code",
   "execution_count": 5,
   "id": "6ca97dbc-1d6c-4f6f-a6b4-be0594c51359",
   "metadata": {},
   "outputs": [],
   "source": [
    "def test_statistic(Z, Z0, n):\n",
    "    return (Z-Z0)/np.sqrt(1 / (n-3))"
   ]
  },
  {
   "cell_type": "markdown",
   "id": "eaddd52e-8bab-451b-a48e-5f751d64f3c8",
   "metadata": {},
   "source": [
    "Etape4: Calcul de la valeur p du test"
   ]
  },
  {
   "cell_type": "code",
   "execution_count": 6,
   "id": "fc1fbca0-eb93-4b72-b714-e334c307a396",
   "metadata": {},
   "outputs": [],
   "source": [
    "def p_value(w):\n",
    "    return 2*(1 - stats.norm.cdf(abs(w)))"
   ]
  },
  {
   "cell_type": "markdown",
   "id": "c702604e-ab26-4f39-84bd-7ab220fa68a8",
   "metadata": {},
   "source": [
    "Données d'exemple"
   ]
  },
  {
   "cell_type": "code",
   "execution_count": 7,
   "id": "a845f30d-73ae-4847-b0b3-f5757efb4d0d",
   "metadata": {},
   "outputs": [],
   "source": [
    "X= np.array([2.1, 2.5, 3.6, 4.0, 5.1])\n",
    "Y= np.array([8.0, 9.5, 10.5, 12.0, 14.0])"
   ]
  },
  {
   "cell_type": "code",
   "execution_count": 8,
   "id": "3aa59581-27b3-4ae1-bdd4-44d3c36ace62",
   "metadata": {},
   "outputs": [],
   "source": [
    "n = len(X)"
   ]
  },
  {
   "cell_type": "markdown",
   "id": "1d50318c-1302-4f76-b960-0eed92c7fb6c",
   "metadata": {},
   "source": [
    "Etape1: Calcul du coefficient de corrélation r"
   ]
  },
  {
   "cell_type": "code",
   "execution_count": 9,
   "id": "148f1cd1-0fa9-4b28-ab9b-f54809522fab",
   "metadata": {},
   "outputs": [],
   "source": [
    "r = correlation_coefficient(X, Y)"
   ]
  },
  {
   "cell_type": "markdown",
   "id": "4d81527a-708e-4df3-9e46-dd0ad926740a",
   "metadata": {},
   "source": [
    "Etape2: Transformatin de Fisher "
   ]
  },
  {
   "cell_type": "code",
   "execution_count": 11,
   "id": "949948ad-127f-4370-8258-6de3eba66494",
   "metadata": {},
   "outputs": [],
   "source": [
    "Z= fisher_transformation(r)"
   ]
  },
  {
   "cell_type": "markdown",
   "id": "b6359eb4-c497-4bff-adf8-6836ac1056ea",
   "metadata": {},
   "source": [
    "Etape3: Test pour H0 : p = p0 (avec p0 = 0 et p0 = 0.6)"
   ]
  },
  {
   "cell_type": "code",
   "execution_count": 12,
   "id": "1fe6bc4a-ef5e-423e-8eb5-71016c3c1447",
   "metadata": {},
   "outputs": [],
   "source": [
    "rho_0_1 = 0.0\n",
    "rho_0_2 = 0.6"
   ]
  },
  {
   "cell_type": "code",
   "execution_count": 13,
   "id": "712e6308-3dda-4d52-8db5-797a9ba117f2",
   "metadata": {},
   "outputs": [],
   "source": [
    "Z0_1 = fisher_transformation(rho_0_1)\n",
    "Z0_2 = fisher_transformation(rho_0_2)"
   ]
  },
  {
   "cell_type": "code",
   "execution_count": 14,
   "id": "9a010be8-cbff-4504-8c1f-b385133655c7",
   "metadata": {},
   "outputs": [],
   "source": [
    "w_1 = test_statistic(Z, Z0_1, n)\n",
    "w_2 = test_statistic(Z, Z0_2, n)"
   ]
  },
  {
   "cell_type": "code",
   "execution_count": 15,
   "id": "1751928f-c370-4241-8c67-8336db6cc397",
   "metadata": {},
   "outputs": [],
   "source": [
    "p_1 = p_value(w_1)\n",
    "p_2 = p_value(w_2)"
   ]
  },
  {
   "cell_type": "markdown",
   "id": "51418d26-f1dd-4d36-a7bc-3c6283387c03",
   "metadata": {},
   "source": [
    "Etape5: Comparaison des résultats"
   ]
  },
  {
   "cell_type": "code",
   "execution_count": 17,
   "id": "89b5f9a5-f4ea-4dd5-8550-44ab23633506",
   "metadata": {},
   "outputs": [
    {
     "name": "stdout",
     "output_type": "stream",
     "text": [
      "Coefficient de corrélation r : 0.9839471851794109\n",
      "Statistique z de Fisher: 2.4084797273441496\n",
      "Test pour p0 = 0: w = 3.4061046951107503, p_value = 0.0006589690370881751\n",
      "Test pour p0 = 0.6: w = 2.425846551642203, p_value = 0.015272726349870647\n"
     ]
    }
   ],
   "source": [
    "print(f\"Coefficient de corrélation r : {r}\")\n",
    "print(f\"Statistique z de Fisher: {Z}\")\n",
    "print(f\"Test pour p0 = 0: w = {w_1}, p_value = {p_1}\")\n",
    "print(f\"Test pour p0 = 0.6: w = {w_2}, p_value = {p_2}\")"
   ]
  },
  {
   "cell_type": "code",
   "execution_count": 18,
   "id": "1287cd58-7981-476c-b219-bc6f0643393f",
   "metadata": {},
   "outputs": [
    {
     "name": "stdout",
     "output_type": "stream",
     "text": [
      "Pour p0 = 0, la corrélation est significative (p<0.05).\n",
      "Pour p0 = 0.6, la corrélation est significative (p< 0.05).\n"
     ]
    }
   ],
   "source": [
    "if p_1 < 0.05:\n",
    "    print(\"Pour p0 = 0, la corrélation est significative (p<0.05).\")\n",
    "else:\n",
    "    print(\"Pour p0 = 0, la corrélation n'est pas significative.\")\n",
    "if p_2 < 0.05:\n",
    "    print(\"Pour p0 = 0.6, la corrélation est significative (p< 0.05).\")\n",
    "else:\n",
    "    print(\"Pour p0 = 0.6, la corrélation n'est pas significative.\")"
   ]
  },
  {
   "cell_type": "code",
   "execution_count": null,
   "id": "9c586417-e824-4a06-afae-0a58dd3671b6",
   "metadata": {},
   "outputs": [],
   "source": []
  }
 ],
 "metadata": {
  "kernelspec": {
   "display_name": "Python 3 (ipykernel)",
   "language": "python",
   "name": "python3"
  },
  "language_info": {
   "codemirror_mode": {
    "name": "ipython",
    "version": 3
   },
   "file_extension": ".py",
   "mimetype": "text/x-python",
   "name": "python",
   "nbconvert_exporter": "python",
   "pygments_lexer": "ipython3",
   "version": "3.11.7"
  }
 },
 "nbformat": 4,
 "nbformat_minor": 5
}
